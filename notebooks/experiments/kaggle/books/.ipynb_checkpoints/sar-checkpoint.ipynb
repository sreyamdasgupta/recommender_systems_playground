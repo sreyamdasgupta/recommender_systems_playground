{
 "cells": [
  {
   "cell_type": "code",
   "execution_count": 1,
   "id": "bd4ccdb0-3b97-44dd-9a0a-91801eb78af4",
   "metadata": {},
   "outputs": [
    {
     "data": {
      "text/plain": [
       "'C:\\\\Users\\\\Sreyam Dasgupta\\\\rec_sys\\\\recommender_systems_playground'"
      ]
     },
     "execution_count": 1,
     "metadata": {},
     "output_type": "execute_result"
    }
   ],
   "source": [
    "import os\n",
    "os.chdir(\"..\\..\\..\\..\")\n",
    "os.getcwd()"
   ]
  },
  {
   "cell_type": "code",
   "execution_count": 2,
   "id": "86521387-c288-4740-acaa-25de5b5ebbc7",
   "metadata": {},
   "outputs": [],
   "source": [
    "import pandas as pd\n",
    "import numpy as np\n",
    "from recommenders.models.sar import SAR\n",
    "from recommenders.evaluation.python_evaluation import map_at_k, ndcg_at_k, precision_at_k, recall_at_k\n",
    "from recommenders.models.cornac.cornac_utils import predict_ranking\n",
    "from recommenders.utils.timer import Timer"
   ]
  },
  {
   "cell_type": "code",
   "execution_count": 3,
   "id": "9974fc3d-893e-44d1-a067-44d5e0e10143",
   "metadata": {},
   "outputs": [],
   "source": [
    "from rec_sys_modules.utils import train_test_split, rename_primary_cols"
   ]
  },
  {
   "cell_type": "code",
   "execution_count": 4,
   "id": "e338da2c-d560-4ad4-8e5a-2547df18061f",
   "metadata": {},
   "outputs": [
    {
     "data": {
      "text/html": [
       "<div>\n",
       "<style scoped>\n",
       "    .dataframe tbody tr th:only-of-type {\n",
       "        vertical-align: middle;\n",
       "    }\n",
       "\n",
       "    .dataframe tbody tr th {\n",
       "        vertical-align: top;\n",
       "    }\n",
       "\n",
       "    .dataframe thead th {\n",
       "        text-align: right;\n",
       "    }\n",
       "</style>\n",
       "<table border=\"1\" class=\"dataframe\">\n",
       "  <thead>\n",
       "    <tr style=\"text-align: right;\">\n",
       "      <th></th>\n",
       "      <th>User-ID</th>\n",
       "      <th>ISBN</th>\n",
       "      <th>Book-Rating</th>\n",
       "    </tr>\n",
       "  </thead>\n",
       "  <tbody>\n",
       "    <tr>\n",
       "      <th>0</th>\n",
       "      <td>276725</td>\n",
       "      <td>034545104X</td>\n",
       "      <td>0</td>\n",
       "    </tr>\n",
       "    <tr>\n",
       "      <th>1</th>\n",
       "      <td>276726</td>\n",
       "      <td>0155061224</td>\n",
       "      <td>5</td>\n",
       "    </tr>\n",
       "    <tr>\n",
       "      <th>2</th>\n",
       "      <td>276727</td>\n",
       "      <td>0446520802</td>\n",
       "      <td>0</td>\n",
       "    </tr>\n",
       "    <tr>\n",
       "      <th>3</th>\n",
       "      <td>276729</td>\n",
       "      <td>052165615X</td>\n",
       "      <td>3</td>\n",
       "    </tr>\n",
       "    <tr>\n",
       "      <th>4</th>\n",
       "      <td>276729</td>\n",
       "      <td>0521795028</td>\n",
       "      <td>6</td>\n",
       "    </tr>\n",
       "  </tbody>\n",
       "</table>\n",
       "</div>"
      ],
      "text/plain": [
       "   User-ID        ISBN  Book-Rating\n",
       "0   276725  034545104X            0\n",
       "1   276726  0155061224            5\n",
       "2   276727  0446520802            0\n",
       "3   276729  052165615X            3\n",
       "4   276729  0521795028            6"
      ]
     },
     "execution_count": 4,
     "metadata": {},
     "output_type": "execute_result"
    }
   ],
   "source": [
    "data = pd.read_csv(\"data/kaggle/books/Ratings.csv\")\n",
    "data.head()"
   ]
  },
  {
   "cell_type": "code",
   "execution_count": 5,
   "id": "daa2576c-8417-4553-ba24-bbd684756c49",
   "metadata": {},
   "outputs": [
    {
     "data": {
      "text/html": [
       "<div>\n",
       "<style scoped>\n",
       "    .dataframe tbody tr th:only-of-type {\n",
       "        vertical-align: middle;\n",
       "    }\n",
       "\n",
       "    .dataframe tbody tr th {\n",
       "        vertical-align: top;\n",
       "    }\n",
       "\n",
       "    .dataframe thead th {\n",
       "        text-align: right;\n",
       "    }\n",
       "</style>\n",
       "<table border=\"1\" class=\"dataframe\">\n",
       "  <thead>\n",
       "    <tr style=\"text-align: right;\">\n",
       "      <th></th>\n",
       "      <th>userID</th>\n",
       "      <th>itemID</th>\n",
       "      <th>rating</th>\n",
       "    </tr>\n",
       "  </thead>\n",
       "  <tbody>\n",
       "    <tr>\n",
       "      <th>0</th>\n",
       "      <td>276725</td>\n",
       "      <td>034545104X</td>\n",
       "      <td>0</td>\n",
       "    </tr>\n",
       "    <tr>\n",
       "      <th>1</th>\n",
       "      <td>276726</td>\n",
       "      <td>0155061224</td>\n",
       "      <td>5</td>\n",
       "    </tr>\n",
       "    <tr>\n",
       "      <th>2</th>\n",
       "      <td>276727</td>\n",
       "      <td>0446520802</td>\n",
       "      <td>0</td>\n",
       "    </tr>\n",
       "    <tr>\n",
       "      <th>3</th>\n",
       "      <td>276729</td>\n",
       "      <td>052165615X</td>\n",
       "      <td>3</td>\n",
       "    </tr>\n",
       "    <tr>\n",
       "      <th>4</th>\n",
       "      <td>276729</td>\n",
       "      <td>0521795028</td>\n",
       "      <td>6</td>\n",
       "    </tr>\n",
       "  </tbody>\n",
       "</table>\n",
       "</div>"
      ],
      "text/plain": [
       "   userID      itemID  rating\n",
       "0  276725  034545104X       0\n",
       "1  276726  0155061224       5\n",
       "2  276727  0446520802       0\n",
       "3  276729  052165615X       3\n",
       "4  276729  0521795028       6"
      ]
     },
     "execution_count": 5,
     "metadata": {},
     "output_type": "execute_result"
    }
   ],
   "source": [
    "data, rename_dict = rename_primary_cols(data,'User-ID','ISBN','Book-Rating')\n",
    "data.head()"
   ]
  },
  {
   "cell_type": "code",
   "execution_count": 12,
   "id": "8f264971-c7c1-44f0-9380-8f5ccefd3290",
   "metadata": {},
   "outputs": [
    {
     "data": {
      "text/plain": [
       "{'User-ID': 'userID', 'ISBN': 'itemID', 'Book-Rating': 'rating'}"
      ]
     },
     "execution_count": 12,
     "metadata": {},
     "output_type": "execute_result"
    }
   ],
   "source": [
    "rename_dict"
   ]
  },
  {
   "cell_type": "code",
   "execution_count": 6,
   "id": "a223c40f-a012-4249-b738-05551a482e2e",
   "metadata": {},
   "outputs": [
    {
     "data": {
      "text/plain": [
       "92666"
      ]
     },
     "execution_count": 6,
     "metadata": {},
     "output_type": "execute_result"
    }
   ],
   "source": [
    "data = data[data.groupby('itemID')['itemID'].transform('size') > 150]\n",
    "len(data)"
   ]
  },
  {
   "cell_type": "markdown",
   "id": "1e691f0a-9d7f-4119-b47a-60e7ddfa02d3",
   "metadata": {},
   "source": [
    "### Important params"
   ]
  },
  {
   "cell_type": "code",
   "execution_count": 7,
   "id": "5d29a570-2375-4dca-bf2b-638e48e09b10",
   "metadata": {},
   "outputs": [],
   "source": [
    "TOP_K = 10"
   ]
  },
  {
   "cell_type": "markdown",
   "id": "3aaf34f8-83e8-4684-93f2-d65ef1b8d36c",
   "metadata": {},
   "source": [
    "### Split"
   ]
  },
  {
   "cell_type": "code",
   "execution_count": 8,
   "id": "e00b0482-8e80-4c6a-b628-80d7bc7c11c1",
   "metadata": {},
   "outputs": [
    {
     "name": "stdout",
     "output_type": "stream",
     "text": [
      "It is recommended to do the split based on a time columns\n",
      "We are not recommending for new users or new items\n",
      "Train size: 74132\n",
      "Validation size: 7381\n",
      "Test size: 7515\n"
     ]
    }
   ],
   "source": [
    "train_df, val_df, test_df = train_test_split(data, 'userID','itemID',train_percentage=0.8,val_percentage=0.1)"
   ]
  },
  {
   "cell_type": "markdown",
   "id": "836361f9-b5c2-41b0-8c9f-481cc24fd347",
   "metadata": {},
   "source": [
    "### Model Fit"
   ]
  },
  {
   "cell_type": "code",
   "execution_count": 19,
   "id": "9f8dd404-08a2-4965-bd74-c77d76f6ae47",
   "metadata": {},
   "outputs": [],
   "source": [
    "header = {\n",
    "    \"col_user\": \"userID\",\n",
    "    \"col_item\": \"itemID\",\n",
    "    \"col_rating\": \"rating\",\n",
    "    \"col_prediction\": \"prediction\",\n",
    "}"
   ]
  },
  {
   "cell_type": "code",
   "execution_count": 24,
   "id": "6e685757-3778-47bd-af98-cc993b8d8dc4",
   "metadata": {},
   "outputs": [],
   "source": [
    "model = SAR(\n",
    "    similarity_type=\"cosine\", \n",
    "    **header\n",
    ")"
   ]
  },
  {
   "cell_type": "code",
   "execution_count": 25,
   "id": "2e414cfa-643c-4dcb-8363-c8ec88839ae3",
   "metadata": {},
   "outputs": [],
   "source": [
    "model.fit(train_df)"
   ]
  },
  {
   "cell_type": "markdown",
   "id": "68fbd695-e9ea-43b3-8cd5-6830b363c69b",
   "metadata": {},
   "source": [
    "### Predict"
   ]
  },
  {
   "cell_type": "code",
   "execution_count": 28,
   "id": "666e75ff-eb88-4a9b-9fb1-5d048b55d47d",
   "metadata": {},
   "outputs": [
    {
     "name": "stderr",
     "output_type": "stream",
     "text": [
      "C:\\Users\\Sreyam Dasgupta\\anaconda3\\envs\\rec_sys_env\\lib\\site-packages\\scipy\\sparse\\_data.py:124: RuntimeWarning: invalid value encountered in multiply\n",
      "  return self._with_data(self.data * other)\n"
     ]
    },
    {
     "data": {
      "text/html": [
       "<div>\n",
       "<style scoped>\n",
       "    .dataframe tbody tr th:only-of-type {\n",
       "        vertical-align: middle;\n",
       "    }\n",
       "\n",
       "    .dataframe tbody tr th {\n",
       "        vertical-align: top;\n",
       "    }\n",
       "\n",
       "    .dataframe thead th {\n",
       "        text-align: right;\n",
       "    }\n",
       "</style>\n",
       "<table border=\"1\" class=\"dataframe\">\n",
       "  <thead>\n",
       "    <tr style=\"text-align: right;\">\n",
       "      <th></th>\n",
       "      <th>userID</th>\n",
       "      <th>itemID</th>\n",
       "      <th>prediction</th>\n",
       "    </tr>\n",
       "  </thead>\n",
       "  <tbody>\n",
       "    <tr>\n",
       "      <th>0</th>\n",
       "      <td>42520</td>\n",
       "      <td>044021145X</td>\n",
       "      <td>1.013961</td>\n",
       "    </tr>\n",
       "    <tr>\n",
       "      <th>1</th>\n",
       "      <td>42520</td>\n",
       "      <td>0440224675</td>\n",
       "      <td>0.981266</td>\n",
       "    </tr>\n",
       "    <tr>\n",
       "      <th>2</th>\n",
       "      <td>42520</td>\n",
       "      <td>0440206154</td>\n",
       "      <td>0.951747</td>\n",
       "    </tr>\n",
       "    <tr>\n",
       "      <th>3</th>\n",
       "      <td>42520</td>\n",
       "      <td>0385484518</td>\n",
       "      <td>0.937043</td>\n",
       "    </tr>\n",
       "    <tr>\n",
       "      <th>4</th>\n",
       "      <td>42520</td>\n",
       "      <td>1559029838</td>\n",
       "      <td>0.917663</td>\n",
       "    </tr>\n",
       "  </tbody>\n",
       "</table>\n",
       "</div>"
      ],
      "text/plain": [
       "   userID      itemID  prediction\n",
       "0   42520  044021145X    1.013961\n",
       "1   42520  0440224675    0.981266\n",
       "2   42520  0440206154    0.951747\n",
       "3   42520  0385484518    0.937043\n",
       "4   42520  1559029838    0.917663"
      ]
     },
     "execution_count": 28,
     "metadata": {},
     "output_type": "execute_result"
    }
   ],
   "source": [
    "all_predictions = model.recommend_k_items(val_df, top_k=30, remove_seen=True)\n",
    "all_predictions.head()"
   ]
  },
  {
   "cell_type": "code",
   "execution_count": 29,
   "id": "2f3cc6dd-e104-4910-8610-3ad079c59079",
   "metadata": {},
   "outputs": [
    {
     "name": "stdout",
     "output_type": "stream",
     "text": [
      "MAP:\t0.072485\n",
      "NDCG:\t0.097672\n",
      "Precision@K:\t0.022818\n",
      "Recall@K:\t0.147125\n"
     ]
    }
   ],
   "source": [
    "k = 10\n",
    "eval_map = map_at_k(val_df, all_predictions, col_prediction='prediction', k=k)\n",
    "eval_ndcg = ndcg_at_k(val_df, all_predictions, col_prediction='prediction', k=k)\n",
    "eval_precision = precision_at_k(val_df, all_predictions, col_prediction='prediction', k=k)\n",
    "eval_recall = recall_at_k(val_df, all_predictions, col_prediction='prediction', k=k)\n",
    "\n",
    "print(\"MAP:\\t%f\" % eval_map,\n",
    "      \"NDCG:\\t%f\" % eval_ndcg,\n",
    "      \"Precision@K:\\t%f\" % eval_precision,\n",
    "      \"Recall@K:\\t%f\" % eval_recall, sep='\\n')"
   ]
  },
  {
   "cell_type": "code",
   "execution_count": null,
   "id": "bcb8d511-34c7-4228-9d38-2e4f9ce164b6",
   "metadata": {},
   "outputs": [],
   "source": []
  }
 ],
 "metadata": {
  "kernelspec": {
   "display_name": "Python 3 (ipykernel)",
   "language": "python",
   "name": "python3"
  },
  "language_info": {
   "codemirror_mode": {
    "name": "ipython",
    "version": 3
   },
   "file_extension": ".py",
   "mimetype": "text/x-python",
   "name": "python",
   "nbconvert_exporter": "python",
   "pygments_lexer": "ipython3",
   "version": "3.8.0"
  }
 },
 "nbformat": 4,
 "nbformat_minor": 5
}
